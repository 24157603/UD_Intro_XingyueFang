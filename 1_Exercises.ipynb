{
 "cells": [
  {
   "cell_type": "markdown",
   "id": "38e188a5",
   "metadata": {},
   "source": [
    "# Exercise 00\n",
    "Write a piece of code that allocates a list of 20 integers and initializes each element by its index multiplied by 5. Print the result."
   ]
  },
  {
   "cell_type": "code",
   "execution_count": 1,
   "id": "01aa4f35",
   "metadata": {},
   "outputs": [
    {
     "name": "stdout",
     "output_type": "stream",
     "text": [
      "[0, 5, 10, 15, 20, 25, 30, 35, 40, 45, 50, 55, 60, 65, 70, 75, 80, 85, 90, 95]\n"
     ]
    }
   ],
   "source": [
    "list = []\n",
    "for i in range(20):\n",
    "    i = i*5\n",
    "    list.append(i)\n",
    "\n",
    "print(list)"
   ]
  },
  {
   "cell_type": "markdown",
   "id": "529d91ae",
   "metadata": {},
   "source": [
    "# Exercise 01\n",
    "Define a function that takes an integer as input, prints  all integers that it is divisable by, and returns the largest one."
   ]
  },
  {
   "cell_type": "code",
   "execution_count": 21,
   "id": "30e79132",
   "metadata": {},
   "outputs": [
    {
     "name": "stdout",
     "output_type": "stream",
     "text": [
      "1\n",
      "2\n",
      "5\n",
      "10\n",
      "25\n",
      "50\n",
      "The largest divisor is: 50\n"
     ]
    }
   ],
   "source": [
    "def divisors(n):\n",
    "    largest_divisor = 1  \n",
    "    for i in range(1, n + 1):\n",
    "        if n % i == 0:  \n",
    "            print(i)  \n",
    "            largest_divisor = i  \n",
    "    return largest_divisor  \n",
    "\n",
    "\n",
    "number = 50\n",
    "largest_divisor = divisors(number)\n",
    "print(\"The largest divisor is:\", largest_divisor)\n"
   ]
  },
  {
   "cell_type": "code",
   "execution_count": null,
   "id": "d68d3ad4-d68e-46db-a310-9b633982760a",
   "metadata": {},
   "outputs": [],
   "source": []
  },
  {
   "cell_type": "markdown",
   "id": "b064ad3c-f43e-45bf-a48f-edb9ae66b8ee",
   "metadata": {},
   "source": [
    "# Exercise 02\n",
    "- create a dictionary with 6 keys and values of your choice\n",
    "- write a function that takes a dictionary and a value as input and returns whether the value occurs as a key in the dictionary\n",
    "- write a function that takes a dictionary as input, and returns the dictionary but the keys are swapped with their values (resolve the issue if a value occurs twice!)"
   ]
  },
  {
   "cell_type": "code",
   "execution_count": 4,
   "id": "2123f1c6",
   "metadata": {},
   "outputs": [
    {
     "name": "stdout",
     "output_type": "stream",
     "text": [
      "True\n"
     ]
    }
   ],
   "source": [
    "my_dict = {'a': 1, 'b': 2, 'c': 3, 'd': 4,  'e': 5, 'f': 6}\n",
    "\n",
    "def value_in_keys(my_dict, value):\n",
    "    return value in my_dict\n",
    "\n",
    "print(value_in_keys(my_dict,'a'))"
   ]
  },
  {
   "cell_type": "markdown",
   "id": "b4b4e426",
   "metadata": {},
   "source": [
    "# Exercise 03\n",
    "Define a function that creates a dictionary of the first n fibonacci numbers as values paired with their indices as keys. "
   ]
  },
  {
   "cell_type": "code",
   "execution_count": 2,
   "id": "7845b5a4",
   "metadata": {},
   "outputs": [
    {
     "name": "stdout",
     "output_type": "stream",
     "text": [
      "{0: 0, 1: 1, 2: 1, 3: 2, 4: 3, 5: 5}\n"
     ]
    }
   ],
   "source": [
    "def fibonacci_dict(n):\n",
    "    fib_dict = {}\n",
    "    a, b = 0, 1\n",
    "    for i in range(n):\n",
    "        fib_dict[i] = a\n",
    "        a, b = b, a + b\n",
    "    return fib_dict\n",
    "\n",
    "\n",
    "print(fibonacci_dict(6)) \n"
   ]
  },
  {
   "cell_type": "code",
   "execution_count": null,
   "id": "045eec55-678e-431e-835c-80334c7a6cce",
   "metadata": {},
   "outputs": [],
   "source": []
  }
 ],
 "metadata": {
  "kernelspec": {
   "display_name": "Python 3 (ipykernel)",
   "language": "python",
   "name": "python3"
  },
  "language_info": {
   "codemirror_mode": {
    "name": "ipython",
    "version": 3
   },
   "file_extension": ".py",
   "mimetype": "text/x-python",
   "name": "python",
   "nbconvert_exporter": "python",
   "pygments_lexer": "ipython3",
   "version": "3.12.4"
  }
 },
 "nbformat": 4,
 "nbformat_minor": 5
}
